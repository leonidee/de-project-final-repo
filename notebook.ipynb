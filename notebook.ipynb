{
 "cells": [
  {
   "cell_type": "code",
   "execution_count": 1,
   "metadata": {},
   "outputs": [
    {
     "name": "stderr",
     "output_type": "stream",
     "text": [
      "Setting default log level to \"WARN\".\n",
      "To adjust logging level use sc.setLogLevel(newLevel). For SparkR, use setLogLevel(newLevel).\n",
      "[2023-09-30 18:20:08] {NativeCodeLoader} WARN: Unable to load native-hadoop library for your platform... using builtin-java classes where applicable\n"
     ]
    }
   ],
   "source": [
    "import findspark\n",
    "\n",
    "findspark.init()\n",
    "findspark.find()\n",
    "\n",
    "from pyspark.sql import SparkSession\n"
   ]
  },
  {
   "cell_type": "code",
   "execution_count": 3,
   "metadata": {},
   "outputs": [],
   "source": [
    "# spark.stop()"
   ]
  },
  {
   "cell_type": "code",
   "execution_count": 2,
   "metadata": {},
   "outputs": [
    {
     "data": {
      "text/plain": [
       "False"
      ]
     },
     "execution_count": 2,
     "metadata": {},
     "output_type": "execute_result"
    }
   ],
   "source": [
    "from os import getenv\n",
    "import dotenv\n",
    "\n",
    "dotenv.find_dotenv()\n",
    "dotenv.load_dotenv()"
   ]
  },
  {
   "cell_type": "code",
   "execution_count": 4,
   "metadata": {},
   "outputs": [],
   "source": [
    "spark = (\n",
    "    SparkSession.builder.master(\"spark://spark-master:7077\")\n",
    "        .appName('test-app')\n",
    "        .config(\n",
    "            map={\n",
    "                \"spark.hadoop.fs.s3a.access.key\": getenv(\"S3_ACCESS_KEY_ID\"),\n",
    "                \"spark.hadoop.fs.s3a.secret.key\": getenv(\"S3_SECRET_ACCESS_KEY\"),\n",
    "                \"spark.hadoop.fs.s3a.endpoint\": getenv(\"S3_ENDPOINT_URL\"),\n",
    "                \"spark.hadoop.fs.s3a.impl\": \"org.apache.hadoop.fs.s3a.S3AFileSystem\",\n",
    "            }\n",
    "        )\n",
    "        .getOrCreate()\n",
    "    )"
   ]
  },
  {
   "cell_type": "code",
   "execution_count": 5,
   "metadata": {},
   "outputs": [
    {
     "name": "stderr",
     "output_type": "stream",
     "text": [
      "[2023-09-30 18:21:03] {MetricsConfig} WARN: Cannot locate configuration: tried hadoop-metrics2-s3a-file-system.properties,hadoop-metrics2.properties\n",
      "                                                                                \r"
     ]
    }
   ],
   "source": [
    "df = spark.read.parquet('s3a://data-ice-lake-05/dev/source/transaction-service/object_type=transaction/date=2023-09-27/hour=7/batch_id=10/part-00000-a9f8364c-705b-4758-a8d9-57b67ff2d236.c000.gz.parquet')"
   ]
  },
  {
   "cell_type": "code",
   "execution_count": 6,
   "metadata": {},
   "outputs": [
    {
     "name": "stderr",
     "output_type": "stream",
     "text": [
      "[Stage 1:>                                                          (0 + 1) / 1]\r"
     ]
    },
    {
     "name": "stdout",
     "output_type": "stream",
     "text": [
      "+------------------------------------+-------------------+-------------------------------------------------------------------------------------------------------------------------------------------------------------------------------------------------------------------------------------------------------------------------------+--------------------------+\n",
      "|object_id                           |sent_dttm          |payload                                                                                                                                                                                                                                                                        |trigger_dttm              |\n",
      "+------------------------------------+-------------------+-------------------------------------------------------------------------------------------------------------------------------------------------------------------------------------------------------------------------------------------------------------------------------+--------------------------+\n",
      "|bcb9bb9b-6b7d-493d-ae16-28d38b061d99|2022-10-01 21:16:09|{\"operation_id\":\"bcb9bb9b-6b7d-493d-ae16-28d38b061d99\",\"account_number_from\":903810,\"account_number_to\":9975061,\"currency_code\":430,\"country\":\"russia\",\"status\":\"chargeback\",\"transaction_type\":\"sbp_incoming\",\"amount\":138400,\"transaction_dt\":\"2022-10-01 21:16:09\"}         |2023-09-27 07:55:50.324444|\n",
      "|9eec7260-0708-4028-b8ab-046db8ecd796|2022-10-01 14:15:46|{\"operation_id\":\"9eec7260-0708-4028-b8ab-046db8ecd796\",\"account_number_from\":903810,\"account_number_to\":1197547,\"currency_code\":430,\"country\":\"russia\",\"status\":\"queued\",\"transaction_type\":\"sbp_incoming\",\"amount\":16900,\"transaction_dt\":\"2022-10-01 14:15:46\"}              |2023-09-27 07:55:50.324444|\n",
      "|79b8b311-fedd-4c96-8aba-2233554d95be|2022-10-01 14:16:34|{\"operation_id\":\"79b8b311-fedd-4c96-8aba-2233554d95be\",\"account_number_from\":914810,\"account_number_to\":5498371,\"currency_code\":460,\"country\":\"england\",\"status\":\"in_progress\",\"transaction_type\":\"c2a_incoming\",\"amount\":150000,\"transaction_dt\":\"2022-10-01 14:16:34\"}       |2023-09-27 07:55:50.324444|\n",
      "|eeaa08d6-146a-49a2-baf3-22827a7330af|2022-10-01 14:16:54|{\"operation_id\":\"eeaa08d6-146a-49a2-baf3-22827a7330af\",\"account_number_from\":903810,\"account_number_to\":562350,\"currency_code\":460,\"country\":\"england\",\"status\":\"queued\",\"transaction_type\":\"sbp_incoming\",\"amount\":100000,\"transaction_dt\":\"2022-10-01 14:16:54\"}             |2023-09-27 07:55:50.324444|\n",
      "|07c9255c-a385-4298-9ab6-8f73012e1882|2022-10-01 14:17:27|{\"operation_id\":\"07c9255c-a385-4298-9ab6-8f73012e1882\",\"account_number_from\":903810,\"account_number_to\":4667397,\"currency_code\":450,\"country\":\"china\",\"status\":\"done\",\"transaction_type\":\"sbp_incoming\",\"amount\":1800,\"transaction_dt\":\"2022-10-01 14:17:27\"}                  |2023-09-27 07:55:50.324444|\n",
      "|e08290ad-813e-4c49-a2d7-18134e28a733|2022-10-01 14:18:04|{\"operation_id\":\"e08290ad-813e-4c49-a2d7-18134e28a733\",\"account_number_from\":914810,\"account_number_to\":6151966,\"currency_code\":410,\"country\":\"canada\",\"status\":\"queued\",\"transaction_type\":\"sbp_incoming\",\"amount\":91000,\"transaction_dt\":\"2022-10-01 14:18:04\"}              |2023-09-27 07:55:50.324444|\n",
      "|a0fb60d9-89f0-4ee0-a0f0-29449ce82aea|2022-10-01 14:18:35|{\"operation_id\":\"a0fb60d9-89f0-4ee0-a0f0-29449ce82aea\",\"account_number_from\":914810,\"account_number_to\":5031721,\"currency_code\":430,\"country\":\"russia\",\"status\":\"in_progress\",\"transaction_type\":\"sbp_incoming\",\"amount\":14500,\"transaction_dt\":\"2022-10-01 14:18:35\"}         |2023-09-27 07:55:50.324444|\n",
      "|4dfd7f96-8338-4a7f-b84e-4967d57a4aea|2022-10-01 14:18:39|{\"operation_id\":\"4dfd7f96-8338-4a7f-b84e-4967d57a4aea\",\"account_number_from\":903810,\"account_number_to\":6607615,\"currency_code\":410,\"country\":\"canada\",\"status\":\"in_progress\",\"transaction_type\":\"c2b_partner_incoming\",\"amount\":250000,\"transaction_dt\":\"2022-10-01 14:18:39\"}|2023-09-27 07:55:50.324444|\n",
      "|f420cd41-4465-423c-872a-f5d3696b937e|2022-10-01 14:18:55|{\"operation_id\":\"f420cd41-4465-423c-872a-f5d3696b937e\",\"account_number_from\":903810,\"account_number_to\":417988,\"currency_code\":430,\"country\":\"russia\",\"status\":\"done\",\"transaction_type\":\"sbp_incoming\",\"amount\":5000,\"transaction_dt\":\"2022-10-01 14:18:55\"}                  |2023-09-27 07:55:50.324444|\n",
      "|8530f11b-ea55-4446-a1e2-038506a75c34|2022-10-01 14:19:05|{\"operation_id\":\"8530f11b-ea55-4446-a1e2-038506a75c34\",\"account_number_from\":914810,\"account_number_to\":710600,\"currency_code\":430,\"country\":\"russia\",\"status\":\"done\",\"transaction_type\":\"authorization\",\"amount\":-29133,\"transaction_dt\":\"2022-10-01 14:19:05\"}               |2023-09-27 07:55:50.324444|\n",
      "|4b9f3110-515f-438f-9e8f-744539f926b9|2022-10-01 14:19:44|{\"operation_id\":\"4b9f3110-515f-438f-9e8f-744539f926b9\",\"account_number_from\":-1,\"account_number_to\":688897,\"currency_code\":430,\"country\":\"russia\",\"status\":\"done\",\"transaction_type\":\"c2b_partner_incoming\",\"amount\":200000,\"transaction_dt\":\"2022-10-01 14:19:44\"}            |2023-09-27 07:55:50.324444|\n",
      "|55a298ec-f97a-4228-bbc0-dfd222056998|2022-10-01 14:19:24|{\"operation_id\":\"55a298ec-f97a-4228-bbc0-dfd222056998\",\"account_number_from\":903810,\"account_number_to\":9001619,\"currency_code\":430,\"country\":\"russia\",\"status\":\"queued\",\"transaction_type\":\"transfer_outgoing\",\"amount\":-431900,\"transaction_dt\":\"2022-10-01 14:19:24\"}       |2023-09-27 07:55:50.324444|\n",
      "|18421787-6a39-4386-a835-3ff281fc3be0|2022-10-01 12:09:24|{\"operation_id\":\"18421787-6a39-4386-a835-3ff281fc3be0\",\"account_number_from\":-1,\"account_number_to\":2491015,\"currency_code\":470,\"country\":\"turkey\",\"status\":\"queued\",\"transaction_type\":\"c2b_partner_incoming\",\"amount\":65600,\"transaction_dt\":\"2022-10-01 12:09:24\"}          |2023-09-27 07:55:50.324444|\n",
      "|bd27333b-3aa8-4981-a53d-6e4cc255c248|2022-10-01 12:09:49|{\"operation_id\":\"bd27333b-3aa8-4981-a53d-6e4cc255c248\",\"account_number_from\":914810,\"account_number_to\":752163,\"currency_code\":430,\"country\":\"russia\",\"status\":\"done\",\"transaction_type\":\"sbp_incoming\",\"amount\":1860000,\"transaction_dt\":\"2022-10-01 12:09:49\"}               |2023-09-27 07:55:50.324444|\n",
      "|df7efad3-42bf-4d4f-ab82-4f5e5f282fd7|2022-10-01 12:09:40|{\"operation_id\":\"df7efad3-42bf-4d4f-ab82-4f5e5f282fd7\",\"account_number_from\":914810,\"account_number_to\":5513177,\"currency_code\":430,\"country\":\"russia\",\"status\":\"queued\",\"transaction_type\":\"sbp_incoming\",\"amount\":16000,\"transaction_dt\":\"2022-10-01 12:09:40\"}              |2023-09-27 07:55:50.324444|\n",
      "|c7a12bdb-721c-4cd6-ae74-654c761da2d7|2022-10-01 14:14:33|{\"operation_id\":\"c7a12bdb-721c-4cd6-ae74-654c761da2d7\",\"account_number_from\":903810,\"account_number_to\":5576436,\"currency_code\":430,\"country\":\"russia\",\"status\":\"in_progress\",\"transaction_type\":\"c2b_partner_incoming\",\"amount\":100000,\"transaction_dt\":\"2022-10-01 14:14:33\"}|2023-09-27 07:55:50.324444|\n",
      "|8c5650ae-5209-4aeb-aa11-f49b7736d431|2022-10-01 14:15:01|{\"operation_id\":\"8c5650ae-5209-4aeb-aa11-f49b7736d431\",\"account_number_from\":914810,\"account_number_to\":688325,\"currency_code\":440,\"country\":\"italy\",\"status\":\"done\",\"transaction_type\":\"authorization\",\"amount\":-26987,\"transaction_dt\":\"2022-10-01 14:15:01\"}                |2023-09-27 07:55:50.324444|\n",
      "|3900a887-4df7-4b8d-a2c0-9ddb552f3913|2022-10-01 14:15:10|{\"operation_id\":\"3900a887-4df7-4b8d-a2c0-9ddb552f3913\",\"account_number_from\":903810,\"account_number_to\":3081246,\"currency_code\":420,\"country\":\"usa\",\"status\":\"queued\",\"transaction_type\":\"c2a_incoming\",\"amount\":300000,\"transaction_dt\":\"2022-10-01 14:15:10\"}                |2023-09-27 07:55:50.324444|\n",
      "|e232cd69-13d5-45cf-863e-f126de0667fb|2022-10-01 21:15:39|{\"operation_id\":\"e232cd69-13d5-45cf-863e-f126de0667fb\",\"account_number_from\":903810,\"account_number_to\":664861,\"currency_code\":450,\"country\":\"china\",\"status\":\"chargeback\",\"transaction_type\":\"c2a_incoming\",\"amount\":150000,\"transaction_dt\":\"2022-10-01 21:15:39\"}           |2023-09-27 07:55:50.324444|\n",
      "|425f7e29-e914-4b65-8373-866e50ccc48d|2022-10-01 14:16:02|{\"operation_id\":\"425f7e29-e914-4b65-8373-866e50ccc48d\",\"account_number_from\":903810,\"account_number_to\":8142842,\"currency_code\":410,\"country\":\"canada\",\"status\":\"queued\",\"transaction_type\":\"sbp_incoming\",\"amount\":22300,\"transaction_dt\":\"2022-10-01 14:16:02\"}              |2023-09-27 07:55:50.324444|\n",
      "|7525d006-6c21-4d24-901f-2378e8f44b55|2022-10-01 14:16:47|{\"operation_id\":\"7525d006-6c21-4d24-901f-2378e8f44b55\",\"account_number_from\":-1,\"account_number_to\":4529003,\"currency_code\":430,\"country\":\"russia\",\"status\":\"queued\",\"transaction_type\":\"sbp_incoming\",\"amount\":295000,\"transaction_dt\":\"2022-10-01 14:16:47\"}                 |2023-09-27 07:55:50.324444|\n",
      "|fd14ad68-1d22-4ef3-9fba-4c1f839d5e01|2022-10-01 14:17:12|{\"operation_id\":\"fd14ad68-1d22-4ef3-9fba-4c1f839d5e01\",\"account_number_from\":914810,\"account_number_to\":1702646,\"currency_code\":460,\"country\":\"england\",\"status\":\"in_progress\",\"transaction_type\":\"authorization\",\"amount\":-8000,\"transaction_dt\":\"2022-10-01 14:17:12\"}       |2023-09-27 07:55:50.324444|\n",
      "|45024b6c-7ab6-4eda-bc06-33160fbd1571|2022-10-01 14:17:13|{\"operation_id\":\"45024b6c-7ab6-4eda-bc06-33160fbd1571\",\"account_number_from\":903810,\"account_number_to\":475708,\"currency_code\":470,\"country\":\"turkey\",\"status\":\"in_progress\",\"transaction_type\":\"sbp_incoming\",\"amount\":303000,\"transaction_dt\":\"2022-10-01 14:17:13\"}         |2023-09-27 07:55:50.324444|\n",
      "|18c12a1d-7851-467a-9c0d-f2c459da2023|2022-10-01 14:17:41|{\"operation_id\":\"18c12a1d-7851-467a-9c0d-f2c459da2023\",\"account_number_from\":903810,\"account_number_to\":4026959,\"currency_code\":420,\"country\":\"usa\",\"status\":\"done\",\"transaction_type\":\"sbp_incoming\",\"amount\":22000,\"transaction_dt\":\"2022-10-01 14:17:41\"}                   |2023-09-27 07:55:50.324444|\n",
      "|548dc258-d8e4-4890-a18b-483c9ebbcb38|2022-10-01 14:18:40|{\"operation_id\":\"548dc258-d8e4-4890-a18b-483c9ebbcb38\",\"account_number_from\":914810,\"account_number_to\":3432987,\"currency_code\":450,\"country\":\"china\",\"status\":\"queued\",\"transaction_type\":\"sbp_incoming\",\"amount\":210000,\"transaction_dt\":\"2022-10-01 14:18:40\"}              |2023-09-27 07:55:50.324444|\n",
      "|919f534f-e83a-4c55-a5e9-67504c9386be|2022-10-01 14:19:06|{\"operation_id\":\"919f534f-e83a-4c55-a5e9-67504c9386be\",\"account_number_from\":914810,\"account_number_to\":9034443,\"currency_code\":430,\"country\":\"russia\",\"status\":\"done\",\"transaction_type\":\"authorization\",\"amount\":-183000,\"transaction_dt\":\"2022-10-01 14:19:06\"}             |2023-09-27 07:55:50.324444|\n",
      "|a67b9e0c-8daa-4702-a8b4-42e1d756dede|2022-10-01 14:19:12|{\"operation_id\":\"a67b9e0c-8daa-4702-a8b4-42e1d756dede\",\"account_number_from\":914810,\"account_number_to\":713972,\"currency_code\":470,\"country\":\"turkey\",\"status\":\"in_progress\",\"transaction_type\":\"sbp_outgoing\",\"amount\":-6440100,\"transaction_dt\":\"2022-10-01 14:19:12\"}       |2023-09-27 07:55:50.324444|\n",
      "|414794b6-b0ef-46be-999c-bdba99c13552|2022-10-01 14:19:08|{\"operation_id\":\"414794b6-b0ef-46be-999c-bdba99c13552\",\"account_number_from\":903810,\"account_number_to\":2445102,\"currency_code\":430,\"country\":\"russia\",\"status\":\"queued\",\"transaction_type\":\"c2a_incoming\",\"amount\":200000,\"transaction_dt\":\"2022-10-01 14:19:08\"}             |2023-09-27 07:55:50.324444|\n",
      "|13403584-89d8-4032-afc6-6478782b44b7|2022-10-01 14:19:40|{\"operation_id\":\"13403584-89d8-4032-afc6-6478782b44b7\",\"account_number_from\":903810,\"account_number_to\":3834412,\"currency_code\":430,\"country\":\"russia\",\"status\":\"done\",\"transaction_type\":\"c2b_partner_incoming\",\"amount\":300000,\"transaction_dt\":\"2022-10-01 14:19:40\"}       |2023-09-27 07:55:50.324444|\n",
      "|e71a6d55-fb74-4c63-9e3f-78f3e84c44da|2022-10-01 14:20:15|{\"operation_id\":\"e71a6d55-fb74-4c63-9e3f-78f3e84c44da\",\"account_number_from\":903810,\"account_number_to\":598504,\"currency_code\":430,\"country\":\"russia\",\"status\":\"done\",\"transaction_type\":\"sbp_incoming\",\"amount\":30000,\"transaction_dt\":\"2022-10-01 14:20:15\"}                 |2023-09-27 07:55:50.324444|\n",
      "|46d620b5-1b39-40a6-9208-a4ba7b68b232|2022-10-01 21:20:46|{\"operation_id\":\"46d620b5-1b39-40a6-9208-a4ba7b68b232\",\"account_number_from\":914810,\"account_number_to\":903810,\"currency_code\":470,\"country\":\"turkey\",\"status\":\"chargeback\",\"transaction_type\":\"authorization\",\"amount\":-25000,\"transaction_dt\":\"2022-10-01 21:20:46\"}         |2023-09-27 07:55:50.324444|\n",
      "|8b284127-9ca9-4c32-a85a-f0d228aaff62|2022-10-01 14:20:34|{\"operation_id\":\"8b284127-9ca9-4c32-a85a-f0d228aaff62\",\"account_number_from\":903810,\"account_number_to\":1703944,\"currency_code\":430,\"country\":\"russia\",\"status\":\"queued\",\"transaction_type\":\"sbp_incoming\",\"amount\":25600,\"transaction_dt\":\"2022-10-01 14:20:34\"}              |2023-09-27 07:55:50.324444|\n",
      "|7c4cd347-b7b6-4c30-9603-67b178dba03f|2022-10-01 12:08:48|{\"operation_id\":\"7c4cd347-b7b6-4c30-9603-67b178dba03f\",\"account_number_from\":903810,\"account_number_to\":247468,\"currency_code\":430,\"country\":\"russia\",\"status\":\"queued\",\"transaction_type\":\"sbp_incoming\",\"amount\":35000,\"transaction_dt\":\"2022-10-01 12:08:48\"}               |2023-09-27 07:55:50.324444|\n",
      "|bae830cb-c39b-423a-8f05-429de33405b1|2022-10-01 12:09:17|{\"operation_id\":\"bae830cb-c39b-423a-8f05-429de33405b1\",\"account_number_from\":903810,\"account_number_to\":9487535,\"currency_code\":410,\"country\":\"canada\",\"status\":\"done\",\"transaction_type\":\"sbp_incoming\",\"amount\":241300,\"transaction_dt\":\"2022-10-01 12:09:17\"}               |2023-09-27 07:55:50.324444|\n",
      "|38ba3a14-3633-4926-8cf9-fef0c6abd5a9|2022-10-01 12:09:49|{\"operation_id\":\"38ba3a14-3633-4926-8cf9-fef0c6abd5a9\",\"account_number_from\":903810,\"account_number_to\":3409016,\"currency_code\":470,\"country\":\"turkey\",\"status\":\"done\",\"transaction_type\":\"transfer_outgoing\",\"amount\":-135300,\"transaction_dt\":\"2022-10-01 12:09:49\"}         |2023-09-27 07:55:50.324444|\n",
      "|5f47ad21-3cfe-485c-a5d5-f8c17da1f67a|2022-10-01 14:14:19|{\"operation_id\":\"5f47ad21-3cfe-485c-a5d5-f8c17da1f67a\",\"account_number_from\":903810,\"account_number_to\":3992567,\"currency_code\":430,\"country\":\"russia\",\"status\":\"done\",\"transaction_type\":\"c2a_incoming\",\"amount\":150000,\"transaction_dt\":\"2022-10-01 14:14:19\"}               |2023-09-27 07:55:50.324444|\n",
      "|e32c06e8-e17a-48aa-b3c5-89dc494ada4e|2022-10-01 14:15:07|{\"operation_id\":\"e32c06e8-e17a-48aa-b3c5-89dc494ada4e\",\"account_number_from\":903810,\"account_number_to\":92073,\"currency_code\":420,\"country\":\"usa\",\"status\":\"done\",\"transaction_type\":\"c2b_partner_incoming\",\"amount\":120000,\"transaction_dt\":\"2022-10-01 14:15:07\"}            |2023-09-27 07:55:50.324444|\n",
      "|27b1fb83-7255-4bc9-ac2a-d99d36353b2d|2022-10-01 14:14:48|{\"operation_id\":\"27b1fb83-7255-4bc9-ac2a-d99d36353b2d\",\"account_number_from\":903810,\"account_number_to\":1195425,\"currency_code\":420,\"country\":\"usa\",\"status\":\"queued\",\"transaction_type\":\"sbp_incoming\",\"amount\":66000,\"transaction_dt\":\"2022-10-01 14:14:48\"}                 |2023-09-27 07:55:50.324444|\n",
      "|4ecbdf15-b28f-493b-8dae-5e85ed1663bb|2022-10-01 21:15:32|{\"operation_id\":\"4ecbdf15-b28f-493b-8dae-5e85ed1663bb\",\"account_number_from\":903810,\"account_number_to\":8441041,\"currency_code\":430,\"country\":\"russia\",\"status\":\"chargeback\",\"transaction_type\":\"sbp_incoming\",\"amount\":40000,\"transaction_dt\":\"2022-10-01 21:15:32\"}          |2023-09-27 07:55:50.324444|\n",
      "|b5d220ef-6c1a-4d9b-8195-aa820bf6b296|2022-10-01 14:16:05|{\"operation_id\":\"b5d220ef-6c1a-4d9b-8195-aa820bf6b296\",\"account_number_from\":914810,\"account_number_to\":6124499,\"currency_code\":430,\"country\":\"russia\",\"status\":\"queued\",\"transaction_type\":\"c2a_incoming\",\"amount\":150000,\"transaction_dt\":\"2022-10-01 14:16:05\"}             |2023-09-27 07:55:50.324444|\n",
      "|e5e1ffc7-5581-47ec-ae5e-a2b03a315425|2022-10-01 14:16:45|{\"operation_id\":\"e5e1ffc7-5581-47ec-ae5e-a2b03a315425\",\"account_number_from\":903810,\"account_number_to\":3548951,\"currency_code\":430,\"country\":\"russia\",\"status\":\"done\",\"transaction_type\":\"sbp_incoming\",\"amount\":20600,\"transaction_dt\":\"2022-10-01 14:16:45\"}                |2023-09-27 07:55:50.324444|\n",
      "|3c919aa6-1b14-4d1c-9d76-f5b52fb59e93|2022-10-01 14:16:58|{\"operation_id\":\"3c919aa6-1b14-4d1c-9d76-f5b52fb59e93\",\"account_number_from\":903810,\"account_number_to\":710312,\"currency_code\":430,\"country\":\"russia\",\"status\":\"queued\",\"transaction_type\":\"sbp_incoming\",\"amount\":100000,\"transaction_dt\":\"2022-10-01 14:16:58\"}              |2023-09-27 07:55:50.324444|\n",
      "|3c919aa6-1b14-4d1c-9d76-f5b52fb59e93|2022-10-01 14:17:22|{\"operation_id\":\"3c919aa6-1b14-4d1c-9d76-f5b52fb59e93\",\"account_number_from\":903810,\"account_number_to\":710312,\"currency_code\":430,\"country\":\"russia\",\"status\":\"done\",\"transaction_type\":\"sbp_incoming\",\"amount\":100000,\"transaction_dt\":\"2022-10-01 14:17:22\"}                |2023-09-27 07:55:50.324444|\n",
      "|4771df56-a278-49bc-936f-9a94eea8942e|2022-10-01 14:18:00|{\"operation_id\":\"4771df56-a278-49bc-936f-9a94eea8942e\",\"account_number_from\":914810,\"account_number_to\":713041,\"currency_code\":470,\"country\":\"turkey\",\"status\":\"done\",\"transaction_type\":\"sbp_incoming\",\"amount\":70000,\"transaction_dt\":\"2022-10-01 14:18:00\"}                 |2023-09-27 07:55:50.324444|\n",
      "|d82e0c65-7771-4680-a8f4-60bb17dacf80|2022-10-01 14:18:15|{\"operation_id\":\"d82e0c65-7771-4680-a8f4-60bb17dacf80\",\"account_number_from\":903810,\"account_number_to\":4597643,\"currency_code\":450,\"country\":\"china\",\"status\":\"done\",\"transaction_type\":\"c2b_partner_incoming\",\"amount\":30000,\"transaction_dt\":\"2022-10-01 14:18:15\"}         |2023-09-27 07:55:50.324444|\n",
      "|f0a37582-6d9c-4de3-89ed-249e8ae22ac6|2022-10-01 14:18:55|{\"operation_id\":\"f0a37582-6d9c-4de3-89ed-249e8ae22ac6\",\"account_number_from\":903810,\"account_number_to\":903810,\"currency_code\":430,\"country\":\"russia\",\"status\":\"done\",\"transaction_type\":\"c2a_incoming\",\"amount\":430000,\"transaction_dt\":\"2022-10-01 14:18:55\"}                |2023-09-27 07:55:50.324444|\n",
      "|55f111e1-414f-469b-ba7e-3dad41dd8b32|2022-10-01 14:20:07|{\"operation_id\":\"55f111e1-414f-469b-ba7e-3dad41dd8b32\",\"account_number_from\":903810,\"account_number_to\":8358180,\"currency_code\":440,\"country\":\"italy\",\"status\":\"done\",\"transaction_type\":\"sbp_incoming\",\"amount\":66600,\"transaction_dt\":\"2022-10-01 14:20:07\"}                 |2023-09-27 07:55:50.324444|\n",
      "|2e6b6833-3a45-4551-80ea-441bbee1facb|2022-10-01 14:20:36|{\"operation_id\":\"2e6b6833-3a45-4551-80ea-441bbee1facb\",\"account_number_from\":903810,\"account_number_to\":903810,\"currency_code\":450,\"country\":\"china\",\"status\":\"in_progress\",\"transaction_type\":\"sbp_incoming\",\"amount\":80000,\"transaction_dt\":\"2022-10-01 14:20:36\"}           |2023-09-27 07:55:50.324444|\n",
      "|991dd056-aa68-465c-b202-18525458b518|2022-10-01 12:08:56|{\"operation_id\":\"991dd056-aa68-465c-b202-18525458b518\",\"account_number_from\":903810,\"account_number_to\":6798302,\"currency_code\":420,\"country\":\"usa\",\"status\":\"in_progress\",\"transaction_type\":\"sbp_incoming\",\"amount\":400000,\"transaction_dt\":\"2022-10-01 12:08:56\"}           |2023-09-27 07:55:50.324444|\n",
      "|79a170f8-e818-4a5a-ac09-1a2301e03236|2022-10-01 12:08:45|{\"operation_id\":\"79a170f8-e818-4a5a-ac09-1a2301e03236\",\"account_number_from\":914810,\"account_number_to\":584934,\"currency_code\":460,\"country\":\"england\",\"status\":\"queued\",\"transaction_type\":\"c2a_incoming\",\"amount\":1314000,\"transaction_dt\":\"2022-10-01 12:08:45\"}            |2023-09-27 07:55:50.324444|\n",
      "|4e83ae45-bdfa-4d11-96e9-c8079d8ed251|2022-10-01 12:09:27|{\"operation_id\":\"4e83ae45-bdfa-4d11-96e9-c8079d8ed251\",\"account_number_from\":903810,\"account_number_to\":1983319,\"currency_code\":430,\"country\":\"russia\",\"status\":\"done\",\"transaction_type\":\"sbp_incoming\",\"amount\":2000,\"transaction_dt\":\"2022-10-01 12:09:27\"}                 |2023-09-27 07:55:50.324444|\n",
      "|d6fad081-3cc1-4c5c-9503-030a30ee2b2a|2022-10-01 14:15:20|{\"operation_id\":\"d6fad081-3cc1-4c5c-9503-030a30ee2b2a\",\"account_number_from\":903810,\"account_number_to\":903810,\"currency_code\":440,\"country\":\"italy\",\"status\":\"in_progress\",\"transaction_type\":\"sbp_incoming\",\"amount\":50000,\"transaction_dt\":\"2022-10-01 14:15:20\"}           |2023-09-27 07:55:50.324444|\n",
      "|0f373fb3-3651-4900-839c-41bf7bd6f325|2022-10-01 14:15:58|{\"operation_id\":\"0f373fb3-3651-4900-839c-41bf7bd6f325\",\"account_number_from\":903810,\"account_number_to\":903810,\"currency_code\":430,\"country\":\"russia\",\"status\":\"done\",\"transaction_type\":\"sbp_incoming\",\"amount\":50000,\"transaction_dt\":\"2022-10-01 14:15:58\"}                 |2023-09-27 07:55:50.324444|\n",
      "|99c3ae0c-afa8-46cd-a404-b8dfe58bafc5|2022-10-01 21:16:20|{\"operation_id\":\"99c3ae0c-afa8-46cd-a404-b8dfe58bafc5\",\"account_number_from\":903810,\"account_number_to\":301177,\"currency_code\":430,\"country\":\"russia\",\"status\":\"chargeback\",\"transaction_type\":\"sbp_incoming\",\"amount\":60000,\"transaction_dt\":\"2022-10-01 21:16:20\"}           |2023-09-27 07:55:50.324444|\n",
      "|184297bb-adc6-47ff-a74f-4b5c4362d567|2022-10-01 21:16:28|{\"operation_id\":\"184297bb-adc6-47ff-a74f-4b5c4362d567\",\"account_number_from\":903810,\"account_number_to\":387874,\"currency_code\":470,\"country\":\"turkey\",\"status\":\"chargeback\",\"transaction_type\":\"c2b_partner_incoming\",\"amount\":100000,\"transaction_dt\":\"2022-10-01 21:16:28\"}  |2023-09-27 07:55:50.324444|\n",
      "|3ee45e4f-4ec2-4a60-a810-c7355c2e8005|2022-10-01 14:16:39|{\"operation_id\":\"3ee45e4f-4ec2-4a60-a810-c7355c2e8005\",\"account_number_from\":914810,\"account_number_to\":2082875,\"currency_code\":430,\"country\":\"russia\",\"status\":\"done\",\"transaction_type\":\"sbp_incoming\",\"amount\":460000,\"transaction_dt\":\"2022-10-01 14:16:39\"}               |2023-09-27 07:55:50.324444|\n",
      "|0c1b79d7-78ae-4367-b449-f0a169c2e778|2022-10-01 14:16:16|{\"operation_id\":\"0c1b79d7-78ae-4367-b449-f0a169c2e778\",\"account_number_from\":903810,\"account_number_to\":46856,\"currency_code\":470,\"country\":\"turkey\",\"status\":\"queued\",\"transaction_type\":\"sbp_incoming\",\"amount\":13000,\"transaction_dt\":\"2022-10-01 14:16:16\"}                |2023-09-27 07:55:50.324444|\n",
      "|7e93e39a-8c8d-4889-9c77-e2a7a326c053|2022-10-01 14:16:29|{\"operation_id\":\"7e93e39a-8c8d-4889-9c77-e2a7a326c053\",\"account_number_from\":903810,\"account_number_to\":1682019,\"currency_code\":450,\"country\":\"china\",\"status\":\"in_progress\",\"transaction_type\":\"sbp_incoming\",\"amount\":624300,\"transaction_dt\":\"2022-10-01 14:16:29\"}         |2023-09-27 07:55:50.324444|\n",
      "|10bbcf11-f6ad-4cc4-84f7-a00ca4ee8ed0|2022-10-01 14:16:43|{\"operation_id\":\"10bbcf11-f6ad-4cc4-84f7-a00ca4ee8ed0\",\"account_number_from\":903810,\"account_number_to\":1678400,\"currency_code\":430,\"country\":\"russia\",\"status\":\"in_progress\",\"transaction_type\":\"sbp_incoming\",\"amount\":1000,\"transaction_dt\":\"2022-10-01 14:16:43\"}          |2023-09-27 07:55:50.324444|\n",
      "|7967c3f0-dee5-4d56-b0ab-d31092dd3d50|2022-10-01 14:16:33|{\"operation_id\":\"7967c3f0-dee5-4d56-b0ab-d31092dd3d50\",\"account_number_from\":914810,\"account_number_to\":5282083,\"currency_code\":460,\"country\":\"england\",\"status\":\"queued\",\"transaction_type\":\"transfer_incoming\",\"amount\":100000,\"transaction_dt\":\"2022-10-01 14:16:33\"}       |2023-09-27 07:55:50.324444|\n",
      "|a946c4f3-5720-4d67-ba81-9e4ab42faeda|2022-10-01 14:17:02|{\"operation_id\":\"a946c4f3-5720-4d67-ba81-9e4ab42faeda\",\"account_number_from\":903810,\"account_number_to\":6647851,\"currency_code\":460,\"country\":\"england\",\"status\":\"in_progress\",\"transaction_type\":\"sbp_incoming\",\"amount\":4000,\"transaction_dt\":\"2022-10-01 14:17:02\"}         |2023-09-27 07:55:50.324444|\n",
      "|37a92020-f534-4617-a5ba-2be1e2270304|2022-10-01 14:17:30|{\"operation_id\":\"37a92020-f534-4617-a5ba-2be1e2270304\",\"account_number_from\":-1,\"account_number_to\":316045,\"currency_code\":460,\"country\":\"england\",\"status\":\"in_progress\",\"transaction_type\":\"sbp_incoming\",\"amount\":30000,\"transaction_dt\":\"2022-10-01 14:17:30\"}             |2023-09-27 07:55:50.324444|\n",
      "|39540fb0-2948-4b8b-b3cf-a6b27593d9c8|2022-10-01 14:18:14|{\"operation_id\":\"39540fb0-2948-4b8b-b3cf-a6b27593d9c8\",\"account_number_from\":903810,\"account_number_to\":9755689,\"currency_code\":410,\"country\":\"canada\",\"status\":\"in_progress\",\"transaction_type\":\"c2b_partner_incoming\",\"amount\":955500,\"transaction_dt\":\"2022-10-01 14:18:14\"}|2023-09-27 07:55:50.324444|\n",
      "|4bd8b45b-5f74-4f5d-a273-8d73a903dc23|2022-10-01 14:18:23|{\"operation_id\":\"4bd8b45b-5f74-4f5d-a273-8d73a903dc23\",\"account_number_from\":903810,\"account_number_to\":8008061,\"currency_code\":430,\"country\":\"russia\",\"status\":\"queued\",\"transaction_type\":\"sbp_incoming\",\"amount\":270000,\"transaction_dt\":\"2022-10-01 14:18:23\"}             |2023-09-27 07:55:50.324444|\n",
      "|cc51de1e-c5df-4488-820d-96f41647520e|2022-10-01 14:18:39|{\"operation_id\":\"cc51de1e-c5df-4488-820d-96f41647520e\",\"account_number_from\":903810,\"account_number_to\":1614594,\"currency_code\":410,\"country\":\"canada\",\"status\":\"queued\",\"transaction_type\":\"sbp_incoming\",\"amount\":167100,\"transaction_dt\":\"2022-10-01 14:18:39\"}             |2023-09-27 07:55:50.324444|\n",
      "|ffa02545-4e34-473a-8932-68557e34a0d6|2022-10-01 14:19:11|{\"operation_id\":\"ffa02545-4e34-473a-8932-68557e34a0d6\",\"account_number_from\":914810,\"account_number_to\":1275916,\"currency_code\":430,\"country\":\"russia\",\"status\":\"queued\",\"transaction_type\":\"sbp_incoming\",\"amount\":1540000,\"transaction_dt\":\"2022-10-01 14:19:11\"}            |2023-09-27 07:55:50.324444|\n",
      "|4b9f3110-515f-438f-9e8f-744539f926b9|2022-10-01 14:19:20|{\"operation_id\":\"4b9f3110-515f-438f-9e8f-744539f926b9\",\"account_number_from\":-1,\"account_number_to\":688897,\"currency_code\":430,\"country\":\"russia\",\"status\":\"queued\",\"transaction_type\":\"c2b_partner_incoming\",\"amount\":200000,\"transaction_dt\":\"2022-10-01 14:19:20\"}          |2023-09-27 07:55:50.324444|\n",
      "|ea9a92d3-2308-4dfa-9aaa-f2c0f5237242|2022-10-01 14:19:31|{\"operation_id\":\"ea9a92d3-2308-4dfa-9aaa-f2c0f5237242\",\"account_number_from\":903810,\"account_number_to\":2381539,\"currency_code\":430,\"country\":\"russia\",\"status\":\"queued\",\"transaction_type\":\"sbp_incoming\",\"amount\":100000,\"transaction_dt\":\"2022-10-01 14:19:31\"}             |2023-09-27 07:55:50.324444|\n",
      "|f5ca6395-930f-4050-b163-b873ef1d0c96|2022-10-01 12:09:01|{\"operation_id\":\"f5ca6395-930f-4050-b163-b873ef1d0c96\",\"account_number_from\":-1,\"account_number_to\":914810,\"currency_code\":410,\"country\":\"canada\",\"status\":\"done\",\"transaction_type\":\"c2a_incoming\",\"amount\":150000,\"transaction_dt\":\"2022-10-01 12:09:01\"}                    |2023-09-27 07:55:50.324444|\n",
      "|3c05c441-1196-4516-b789-3ab858ca8e2d|2022-10-01 12:09:08|{\"operation_id\":\"3c05c441-1196-4516-b789-3ab858ca8e2d\",\"account_number_from\":903810,\"account_number_to\":680541,\"currency_code\":450,\"country\":\"china\",\"status\":\"in_progress\",\"transaction_type\":\"c2a_incoming\",\"amount\":150000,\"transaction_dt\":\"2022-10-01 12:09:08\"}          |2023-09-27 07:55:50.324444|\n",
      "|ffa1f550-1618-4213-95e3-0ff3d17884b4|2022-10-01 12:09:25|{\"operation_id\":\"ffa1f550-1618-4213-95e3-0ff3d17884b4\",\"account_number_from\":903810,\"account_number_to\":9360497,\"currency_code\":410,\"country\":\"canada\",\"status\":\"done\",\"transaction_type\":\"sbp_incoming\",\"amount\":1000,\"transaction_dt\":\"2022-10-01 12:09:25\"}                 |2023-09-27 07:55:50.324444|\n",
      "|162adb47-5e00-4fd9-a566-f28f5410a57a|2022-10-01 14:14:31|{\"operation_id\":\"162adb47-5e00-4fd9-a566-f28f5410a57a\",\"account_number_from\":903810,\"account_number_to\":1549495,\"currency_code\":470,\"country\":\"turkey\",\"status\":\"done\",\"transaction_type\":\"sbp_incoming\",\"amount\":61500,\"transaction_dt\":\"2022-10-01 14:14:31\"}                |2023-09-27 07:55:50.324444|\n",
      "|f90a7087-ce55-4c1d-a72a-47b68f8bcfbb|2022-10-01 14:14:23|{\"operation_id\":\"f90a7087-ce55-4c1d-a72a-47b68f8bcfbb\",\"account_number_from\":903810,\"account_number_to\":1130962,\"currency_code\":430,\"country\":\"russia\",\"status\":\"in_progress\",\"transaction_type\":\"sbp_incoming\",\"amount\":200500,\"transaction_dt\":\"2022-10-01 14:14:23\"}        |2023-09-27 07:55:50.324444|\n",
      "|f1240f6e-d75b-4551-b676-2cc11b168e86|2022-10-01 14:14:59|{\"operation_id\":\"f1240f6e-d75b-4551-b676-2cc11b168e86\",\"account_number_from\":903810,\"account_number_to\":592743,\"currency_code\":430,\"country\":\"russia\",\"status\":\"queued\",\"transaction_type\":\"sbp_incoming\",\"amount\":5000,\"transaction_dt\":\"2022-10-01 14:14:59\"}                |2023-09-27 07:55:50.324444|\n",
      "|8667df71-98c0-4665-a883-a1927c722949|2022-10-01 14:15:19|{\"operation_id\":\"8667df71-98c0-4665-a883-a1927c722949\",\"account_number_from\":903810,\"account_number_to\":5865762,\"currency_code\":430,\"country\":\"russia\",\"status\":\"in_progress\",\"transaction_type\":\"c2b_partner_incoming\",\"amount\":300000,\"transaction_dt\":\"2022-10-01 14:15:19\"}|2023-09-27 07:55:50.324444|\n",
      "|fd09279d-9c06-4d8f-a237-b24b1e549c0d|2022-10-01 14:15:45|{\"operation_id\":\"fd09279d-9c06-4d8f-a237-b24b1e549c0d\",\"account_number_from\":903810,\"account_number_to\":4864263,\"currency_code\":430,\"country\":\"russia\",\"status\":\"blocked\",\"transaction_type\":\"sbp_incoming\",\"amount\":20000,\"transaction_dt\":\"2022-10-01 14:15:45\"}             |2023-09-27 07:55:50.324444|\n",
      "|3dd67918-275e-41a2-87db-09194a175336|2022-10-01 14:16:14|{\"operation_id\":\"3dd67918-275e-41a2-87db-09194a175336\",\"account_number_from\":914810,\"account_number_to\":8156725,\"currency_code\":430,\"country\":\"russia\",\"status\":\"queued\",\"transaction_type\":\"sbp_outgoing\",\"amount\":-200000,\"transaction_dt\":\"2022-10-01 14:16:14\"}            |2023-09-27 07:55:50.324444|\n",
      "|61ca0b9f-31ed-40a6-bf82-9da4973c8c69|2022-10-01 14:16:31|{\"operation_id\":\"61ca0b9f-31ed-40a6-bf82-9da4973c8c69\",\"account_number_from\":-1,\"account_number_to\":5595340,\"currency_code\":410,\"country\":\"canada\",\"status\":\"in_progress\",\"transaction_type\":\"sbp_incoming\",\"amount\":13000,\"transaction_dt\":\"2022-10-01 14:16:31\"}             |2023-09-27 07:55:50.324444|\n",
      "|e9bb85ed-3b1c-4ede-9fa4-cb592f798262|2022-10-01 14:18:03|{\"operation_id\":\"e9bb85ed-3b1c-4ede-9fa4-cb592f798262\",\"account_number_from\":903810,\"account_number_to\":686251,\"currency_code\":440,\"country\":\"italy\",\"status\":\"queued\",\"transaction_type\":\"c2a_incoming\",\"amount\":200000,\"transaction_dt\":\"2022-10-01 14:18:03\"}               |2023-09-27 07:55:50.324444|\n",
      "|201dd0ab-ccb3-4230-8b9d-e8740159958e|2022-10-01 14:18:06|{\"operation_id\":\"201dd0ab-ccb3-4230-8b9d-e8740159958e\",\"account_number_from\":903810,\"account_number_to\":6083575,\"currency_code\":410,\"country\":\"canada\",\"status\":\"queued\",\"transaction_type\":\"c2b_partner_incoming\",\"amount\":60000,\"transaction_dt\":\"2022-10-01 14:18:06\"}      |2023-09-27 07:55:50.324444|\n",
      "|f09aec68-3ea6-454f-9d97-fcb02ec5f761|2022-10-01 14:18:26|{\"operation_id\":\"f09aec68-3ea6-454f-9d97-fcb02ec5f761\",\"account_number_from\":914810,\"account_number_to\":9084634,\"currency_code\":450,\"country\":\"china\",\"status\":\"queued\",\"transaction_type\":\"sbp_outgoing\",\"amount\":-1337900,\"transaction_dt\":\"2022-10-01 14:18:26\"}            |2023-09-27 07:55:50.324444|\n",
      "|0d371bb5-1741-47e0-83f0-f72d7d45e573|2022-10-01 14:18:48|{\"operation_id\":\"0d371bb5-1741-47e0-83f0-f72d7d45e573\",\"account_number_from\":903810,\"account_number_to\":272526,\"currency_code\":430,\"country\":\"russia\",\"status\":\"blocked\",\"transaction_type\":\"sbp_incoming\",\"amount\":95000,\"transaction_dt\":\"2022-10-01 14:18:48\"}              |2023-09-27 07:55:50.324444|\n",
      "|9fefa9d8-73b6-4c36-99ef-ee4a6be5ebef|2022-10-01 14:18:50|{\"operation_id\":\"9fefa9d8-73b6-4c36-99ef-ee4a6be5ebef\",\"account_number_from\":903810,\"account_number_to\":5717352,\"currency_code\":470,\"country\":\"turkey\",\"status\":\"in_progress\",\"transaction_type\":\"sbp_incoming\",\"amount\":371600,\"transaction_dt\":\"2022-10-01 14:18:50\"}        |2023-09-27 07:55:50.324444|\n",
      "|bd3872fa-927f-451f-bbc1-ed9f78a4cdeb|2022-10-01 14:19:49|{\"operation_id\":\"bd3872fa-927f-451f-bbc1-ed9f78a4cdeb\",\"account_number_from\":903810,\"account_number_to\":1068405,\"currency_code\":470,\"country\":\"turkey\",\"status\":\"in_progress\",\"transaction_type\":\"sbp_incoming\",\"amount\":39800,\"transaction_dt\":\"2022-10-01 14:19:49\"}         |2023-09-27 07:55:50.324444|\n",
      "|9f02af7c-d895-4891-b266-61be0c5e0016|2022-10-01 14:20:33|{\"operation_id\":\"9f02af7c-d895-4891-b266-61be0c5e0016\",\"account_number_from\":914810,\"account_number_to\":598347,\"currency_code\":460,\"country\":\"england\",\"status\":\"queued\",\"transaction_type\":\"sbp_incoming\",\"amount\":700000,\"transaction_dt\":\"2022-10-01 14:20:33\"}             |2023-09-27 07:55:50.324444|\n",
      "|e3d0c1b5-cebf-4527-82fc-7b4759320d4e|2022-10-01 14:14:18|{\"operation_id\":\"e3d0c1b5-cebf-4527-82fc-7b4759320d4e\",\"account_number_from\":903810,\"account_number_to\":593531,\"currency_code\":430,\"country\":\"russia\",\"status\":\"done\",\"transaction_type\":\"c2b_partner_incoming\",\"amount\":150000,\"transaction_dt\":\"2022-10-01 14:14:18\"}        |2023-09-27 07:55:50.324444|\n",
      "|15d83b71-01f0-48ec-9d69-b4e6adc1662b|2022-10-01 12:07:56|{\"operation_id\":\"15d83b71-01f0-48ec-9d69-b4e6adc1662b\",\"account_number_from\":903810,\"account_number_to\":914810,\"currency_code\":430,\"country\":\"russia\",\"status\":\"queued\",\"transaction_type\":\"sbp_incoming\",\"amount\":40000,\"transaction_dt\":\"2022-10-01 12:07:56\"}               |2023-09-27 07:55:50.324444|\n",
      "|c96d6fc6-554f-4975-bf50-ea804984210d|2022-10-01 12:08:21|{\"operation_id\":\"c96d6fc6-554f-4975-bf50-ea804984210d\",\"account_number_from\":903810,\"account_number_to\":8317784,\"currency_code\":430,\"country\":\"russia\",\"status\":\"in_progress\",\"transaction_type\":\"sbp_incoming\",\"amount\":195000,\"transaction_dt\":\"2022-10-01 12:08:21\"}        |2023-09-27 07:55:50.324444|\n",
      "|23d3a9d4-a1b6-4eb3-964f-aa806b18c8f0|2022-10-01 14:14:28|{\"operation_id\":\"23d3a9d4-a1b6-4eb3-964f-aa806b18c8f0\",\"account_number_from\":914810,\"account_number_to\":903810,\"currency_code\":430,\"country\":\"russia\",\"status\":\"queued\",\"transaction_type\":\"sbp_outgoing\",\"amount\":-81500,\"transaction_dt\":\"2022-10-01 14:14:28\"}              |2023-09-27 07:55:50.324444|\n",
      "|a8539b53-ecc6-4421-ad1b-f74e72c3f686|2022-10-01 14:15:05|{\"operation_id\":\"a8539b53-ecc6-4421-ad1b-f74e72c3f686\",\"account_number_from\":914810,\"account_number_to\":903810,\"currency_code\":430,\"country\":\"russia\",\"status\":\"queued\",\"transaction_type\":\"sbp_incoming\",\"amount\":15400,\"transaction_dt\":\"2022-10-01 14:15:05\"}               |2023-09-27 07:55:50.324444|\n",
      "|9dd68925-0e4e-4df8-93b2-483d1b6f7cfb|2022-10-01 14:15:37|{\"operation_id\":\"9dd68925-0e4e-4df8-93b2-483d1b6f7cfb\",\"account_number_from\":903810,\"account_number_to\":9173656,\"currency_code\":460,\"country\":\"england\",\"status\":\"done\",\"transaction_type\":\"sbp_incoming\",\"amount\":3300,\"transaction_dt\":\"2022-10-01 14:15:37\"}                |2023-09-27 07:55:50.324444|\n",
      "|b513ae66-c9ac-44a8-b4a2-6207984bf58b|2022-10-01 14:17:04|{\"operation_id\":\"b513ae66-c9ac-44a8-b4a2-6207984bf58b\",\"account_number_from\":903810,\"account_number_to\":903810,\"currency_code\":430,\"country\":\"russia\",\"status\":\"in_progress\",\"transaction_type\":\"c2b_partner_incoming\",\"amount\":140000,\"transaction_dt\":\"2022-10-01 14:17:04\"} |2023-09-27 07:55:50.324444|\n",
      "|3c919aa6-1b14-4d1c-9d76-f5b52fb59e93|2022-10-01 14:17:10|{\"operation_id\":\"3c919aa6-1b14-4d1c-9d76-f5b52fb59e93\",\"account_number_from\":903810,\"account_number_to\":710312,\"currency_code\":430,\"country\":\"russia\",\"status\":\"in_progress\",\"transaction_type\":\"sbp_incoming\",\"amount\":100000,\"transaction_dt\":\"2022-10-01 14:17:10\"}         |2023-09-27 07:55:50.324444|\n",
      "|f40941b4-6983-472a-87f3-8be3127d7d8d|2022-10-01 14:17:55|{\"operation_id\":\"f40941b4-6983-472a-87f3-8be3127d7d8d\",\"account_number_from\":914810,\"account_number_to\":1702389,\"currency_code\":470,\"country\":\"turkey\",\"status\":\"done\",\"transaction_type\":\"authorization\",\"amount\":-19699,\"transaction_dt\":\"2022-10-01 14:17:55\"}              |2023-09-27 07:55:50.324444|\n",
      "|b0155f3f-1e01-47b8-aa4c-8227437601a4|2022-10-01 14:18:05|{\"operation_id\":\"b0155f3f-1e01-47b8-aa4c-8227437601a4\",\"account_number_from\":914810,\"account_number_to\":259995,\"currency_code\":430,\"country\":\"russia\",\"status\":\"queued\",\"transaction_type\":\"sbp_incoming\",\"amount\":35700,\"transaction_dt\":\"2022-10-01 14:18:05\"}               |2023-09-27 07:55:50.324444|\n",
      "|7241e893-d0cb-4954-aa57-f340c13cb36d|2022-10-01 21:18:37|{\"operation_id\":\"7241e893-d0cb-4954-aa57-f340c13cb36d\",\"account_number_from\":914810,\"account_number_to\":103520,\"currency_code\":420,\"country\":\"usa\",\"status\":\"chargeback\",\"transaction_type\":\"transfer_incoming\",\"amount\":400000,\"transaction_dt\":\"2022-10-01 21:18:37\"}        |2023-09-27 07:55:50.324444|\n",
      "|9f6fbcd5-606a-4088-9c51-dac8724303bd|2022-10-01 14:19:33|{\"operation_id\":\"9f6fbcd5-606a-4088-9c51-dac8724303bd\",\"account_number_from\":903810,\"account_number_to\":914810,\"currency_code\":430,\"country\":\"russia\",\"status\":\"queued\",\"transaction_type\":\"sbp_incoming\",\"amount\":43200,\"transaction_dt\":\"2022-10-01 14:19:33\"}               |2023-09-27 07:55:50.324444|\n",
      "|9f6fbcd5-606a-4088-9c51-dac8724303bd|2022-10-01 21:19:57|{\"operation_id\":\"9f6fbcd5-606a-4088-9c51-dac8724303bd\",\"account_number_from\":903810,\"account_number_to\":914810,\"currency_code\":430,\"country\":\"russia\",\"status\":\"chargeback\",\"transaction_type\":\"sbp_incoming\",\"amount\":43200,\"transaction_dt\":\"2022-10-01 21:19:57\"}           |2023-09-27 07:55:50.324444|\n",
      "|ce90741a-7545-4390-879b-f47aeff39a7a|2022-10-01 14:20:27|{\"operation_id\":\"ce90741a-7545-4390-879b-f47aeff39a7a\",\"account_number_from\":903810,\"account_number_to\":3657827,\"currency_code\":410,\"country\":\"canada\",\"status\":\"done\",\"transaction_type\":\"sbp_incoming\",\"amount\":100000,\"transaction_dt\":\"2022-10-01 14:20:27\"}               |2023-09-27 07:55:50.324444|\n",
      "|4bdb8c38-07f7-4d81-acff-db158897f585|2022-10-01 14:20:36|{\"operation_id\":\"4bdb8c38-07f7-4d81-acff-db158897f585\",\"account_number_from\":-1,\"account_number_to\":572359,\"currency_code\":430,\"country\":\"russia\",\"status\":\"in_progress\",\"transaction_type\":\"sbp_incoming\",\"amount\":50000,\"transaction_dt\":\"2022-10-01 14:20:36\"}              |2023-09-27 07:55:50.324444|\n",
      "+------------------------------------+-------------------+-------------------------------------------------------------------------------------------------------------------------------------------------------------------------------------------------------------------------------------------------------------------------------+--------------------------+\n",
      "only showing top 100 rows\n",
      "\n"
     ]
    },
    {
     "name": "stderr",
     "output_type": "stream",
     "text": [
      "                                                                                \r"
     ]
    }
   ],
   "source": [
    "df.show(100, False)"
   ]
  },
  {
   "cell_type": "code",
   "execution_count": 7,
   "metadata": {},
   "outputs": [
    {
     "name": "stdout",
     "output_type": "stream",
     "text": [
      "root\n",
      " |-- object_id: string (nullable = true)\n",
      " |-- sent_dttm: timestamp (nullable = true)\n",
      " |-- payload: string (nullable = true)\n",
      " |-- trigger_dttm: timestamp (nullable = true)\n",
      "\n"
     ]
    }
   ],
   "source": [
    "df.printSchema()"
   ]
  }
 ],
 "metadata": {
  "kernelspec": {
   "display_name": ".venv",
   "language": "python",
   "name": "python3"
  },
  "language_info": {
   "codemirror_mode": {
    "name": "ipython",
    "version": 3
   },
   "file_extension": ".py",
   "mimetype": "text/x-python",
   "name": "python",
   "nbconvert_exporter": "python",
   "pygments_lexer": "ipython3",
   "version": "3.11.5"
  },
  "orig_nbformat": 4
 },
 "nbformat": 4,
 "nbformat_minor": 2
}
