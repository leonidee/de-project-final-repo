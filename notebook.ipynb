{
 "cells": [
  {
   "cell_type": "code",
   "execution_count": 1,
   "metadata": {},
   "outputs": [
    {
     "name": "stderr",
     "output_type": "stream",
     "text": [
      "/home/de-user/code/de-project-final-repo/src/logger/__init__.py:41: RuntimeWarning: Logging handler is not specified. Default value will be used -> console. If you want to change set handler as environment variable LOGGING_HANDLER\n",
      "  warnings.warn(\n"
     ]
    }
   ],
   "source": [
    "import sys\n",
    "sys.path.append('/home/de-user/code/de-project-final-repo')\n",
    "\n",
    "from src.clients.s3 import get_client"
   ]
  },
  {
   "cell_type": "code",
   "execution_count": 2,
   "metadata": {},
   "outputs": [],
   "source": [
    "s3 = get_client()"
   ]
  },
  {
   "cell_type": "code",
   "execution_count": 3,
   "metadata": {},
   "outputs": [],
   "source": [
    "import pandas as pd\n",
    "\n",
    "pd.options.display.max_columns = None\n",
    "pd.options.display.max_rows = None"
   ]
  },
  {
   "cell_type": "code",
   "execution_count": 10,
   "metadata": {},
   "outputs": [
    {
     "data": {
      "text/plain": [
       "[]"
      ]
     },
     "execution_count": 10,
     "metadata": {},
     "output_type": "execute_result"
    }
   ],
   "source": [
    "path_to_remove = 's3a://data-ice-lake-05/dev/source/spark-streaming-checkpoints'\n",
    "\n",
    "s3.rm(path=path_to_remove, recursive=True)"
   ]
  },
  {
   "cell_type": "code",
   "execution_count": 11,
   "metadata": {},
   "outputs": [
    {
     "data": {
      "text/plain": [
       "['data-ice-lake-05/dev/source/transaction-service']"
      ]
     },
     "execution_count": 11,
     "metadata": {},
     "output_type": "execute_result"
    }
   ],
   "source": [
    "s3.ls('s3a://data-ice-lake-05/dev/source')"
   ]
  },
  {
   "cell_type": "code",
   "execution_count": 37,
   "metadata": {},
   "outputs": [
    {
     "data": {
      "text/plain": [
       "['data-ice-lake-05/dev/source/transaction-service/object_type=transaction/date=2023-10-07/hour=18/batch_id=0/part-00000-4c34a093-a26c-4c5d-bdc3-214ed33f7058.c000.snappy.parquet']"
      ]
     },
     "execution_count": 37,
     "metadata": {},
     "output_type": "execute_result"
    }
   ],
   "source": [
    "path = \"s3a://data-ice-lake-05/dev/source/transaction-service/object_type=transaction/date=2023-10-07/hour=18/batch_id=0\"\n",
    "\n",
    "s3.ls(path)"
   ]
  },
  {
   "cell_type": "code",
   "execution_count": 38,
   "metadata": {},
   "outputs": [],
   "source": [
    "with s3.open(s3.ls(path)[0], 'rb') as f:\n",
    "    df = pd.read_parquet(f)"
   ]
  },
  {
   "cell_type": "code",
   "execution_count": 39,
   "metadata": {},
   "outputs": [
    {
     "data": {
      "text/html": [
       "<div>\n",
       "<style scoped>\n",
       "    .dataframe tbody tr th:only-of-type {\n",
       "        vertical-align: middle;\n",
       "    }\n",
       "\n",
       "    .dataframe tbody tr th {\n",
       "        vertical-align: top;\n",
       "    }\n",
       "\n",
       "    .dataframe thead th {\n",
       "        text-align: right;\n",
       "    }\n",
       "</style>\n",
       "<table border=\"1\" class=\"dataframe\">\n",
       "  <thead>\n",
       "    <tr style=\"text-align: right;\">\n",
       "      <th></th>\n",
       "      <th>object_id</th>\n",
       "      <th>sent_dttm</th>\n",
       "      <th>payload</th>\n",
       "      <th>trigger_dttm</th>\n",
       "    </tr>\n",
       "  </thead>\n",
       "  <tbody>\n",
       "    <tr>\n",
       "      <th>0</th>\n",
       "      <td>e2d4cfd9-4dc6-4a02-8c7a-c391a420206b</td>\n",
       "      <td>2022-10-01 00:11:45</td>\n",
       "      <td>{\"operation_id\":\"e2d4cfd9-4dc6-4a02-8c7a-c391a...</td>\n",
       "      <td>2023-10-07 18:44:34.385775</td>\n",
       "    </tr>\n",
       "    <tr>\n",
       "      <th>1</th>\n",
       "      <td>b05f56ef-3b59-49ee-851c-a37a98d1dd28</td>\n",
       "      <td>2022-10-01 00:22:28</td>\n",
       "      <td>{\"operation_id\":\"b05f56ef-3b59-49ee-851c-a37a9...</td>\n",
       "      <td>2023-10-07 18:44:34.385775</td>\n",
       "    </tr>\n",
       "    <tr>\n",
       "      <th>2</th>\n",
       "      <td>a62136ce-f65a-45d8-8472-18bdc5c1e0e3</td>\n",
       "      <td>2022-10-01 00:28:04</td>\n",
       "      <td>{\"operation_id\":\"a62136ce-f65a-45d8-8472-18bdc...</td>\n",
       "      <td>2023-10-07 18:44:34.385775</td>\n",
       "    </tr>\n",
       "    <tr>\n",
       "      <th>3</th>\n",
       "      <td>a0d7ccfa-8bf1-4921-8d68-a50e5e2b2fbd</td>\n",
       "      <td>2022-10-01 00:29:53</td>\n",
       "      <td>{\"operation_id\":\"a0d7ccfa-8bf1-4921-8d68-a50e5...</td>\n",
       "      <td>2023-10-07 18:44:34.385775</td>\n",
       "    </tr>\n",
       "    <tr>\n",
       "      <th>4</th>\n",
       "      <td>818b7011-e7e0-48c1-a0e3-8c061c92fc1f</td>\n",
       "      <td>2022-10-01 00:38:23</td>\n",
       "      <td>{\"operation_id\":\"818b7011-e7e0-48c1-a0e3-8c061...</td>\n",
       "      <td>2023-10-07 18:44:34.385775</td>\n",
       "    </tr>\n",
       "  </tbody>\n",
       "</table>\n",
       "</div>"
      ],
      "text/plain": [
       "                              object_id           sent_dttm  \\\n",
       "0  e2d4cfd9-4dc6-4a02-8c7a-c391a420206b 2022-10-01 00:11:45   \n",
       "1  b05f56ef-3b59-49ee-851c-a37a98d1dd28 2022-10-01 00:22:28   \n",
       "2  a62136ce-f65a-45d8-8472-18bdc5c1e0e3 2022-10-01 00:28:04   \n",
       "3  a0d7ccfa-8bf1-4921-8d68-a50e5e2b2fbd 2022-10-01 00:29:53   \n",
       "4  818b7011-e7e0-48c1-a0e3-8c061c92fc1f 2022-10-01 00:38:23   \n",
       "\n",
       "                                             payload  \\\n",
       "0  {\"operation_id\":\"e2d4cfd9-4dc6-4a02-8c7a-c391a...   \n",
       "1  {\"operation_id\":\"b05f56ef-3b59-49ee-851c-a37a9...   \n",
       "2  {\"operation_id\":\"a62136ce-f65a-45d8-8472-18bdc...   \n",
       "3  {\"operation_id\":\"a0d7ccfa-8bf1-4921-8d68-a50e5...   \n",
       "4  {\"operation_id\":\"818b7011-e7e0-48c1-a0e3-8c061...   \n",
       "\n",
       "                trigger_dttm  \n",
       "0 2023-10-07 18:44:34.385775  \n",
       "1 2023-10-07 18:44:34.385775  \n",
       "2 2023-10-07 18:44:34.385775  \n",
       "3 2023-10-07 18:44:34.385775  \n",
       "4 2023-10-07 18:44:34.385775  "
      ]
     },
     "execution_count": 39,
     "metadata": {},
     "output_type": "execute_result"
    }
   ],
   "source": [
    "df.head()"
   ]
  }
 ],
 "metadata": {
  "kernelspec": {
   "display_name": ".venv",
   "language": "python",
   "name": "python3"
  },
  "language_info": {
   "codemirror_mode": {
    "name": "ipython",
    "version": 3
   },
   "file_extension": ".py",
   "mimetype": "text/x-python",
   "name": "python",
   "nbconvert_exporter": "python",
   "pygments_lexer": "ipython3",
   "version": "3.11.2"
  },
  "orig_nbformat": 4
 },
 "nbformat": 4,
 "nbformat_minor": 2
}
