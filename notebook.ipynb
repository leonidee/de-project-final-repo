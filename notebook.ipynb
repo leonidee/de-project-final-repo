{
 "cells": [
  {
   "cell_type": "code",
   "execution_count": 1,
   "metadata": {},
   "outputs": [],
   "source": [
    "from s3fs import S3FileSystem\n",
    "from os import getenv"
   ]
  },
  {
   "cell_type": "code",
   "execution_count": 2,
   "metadata": {},
   "outputs": [
    {
     "data": {
      "text/plain": [
       "True"
      ]
     },
     "execution_count": 2,
     "metadata": {},
     "output_type": "execute_result"
    }
   ],
   "source": [
    "import dotenv\n",
    "\n",
    "dotenv.load_dotenv()"
   ]
  },
  {
   "cell_type": "code",
   "execution_count": 3,
   "metadata": {},
   "outputs": [],
   "source": [
    "s3 = S3FileSystem(\n",
    "    key=getenv(\"S3_ACCESS_KEY_ID\"),\n",
    "    secret=getenv(\"S3_SECRET_ACCESS_KEY\"),\n",
    "    endpoint_url=getenv(\"S3_ENDPOINT_URL\"),\n",
    ")\n"
   ]
  },
  {
   "cell_type": "code",
   "execution_count": 4,
   "metadata": {},
   "outputs": [],
   "source": [
    "import pandas as pd"
   ]
  },
  {
   "cell_type": "code",
   "execution_count": 37,
   "metadata": {},
   "outputs": [
    {
     "data": {
      "text/plain": [
       "['data-ice-lake-05/dev/source/transaction-service/object_type=transaction/date=2023-10-07/hour=18/batch_id=0/part-00000-4c34a093-a26c-4c5d-bdc3-214ed33f7058.c000.snappy.parquet']"
      ]
     },
     "execution_count": 37,
     "metadata": {},
     "output_type": "execute_result"
    }
   ],
   "source": [
    "path = \"s3a://data-ice-lake-05/dev/source/transaction-service/object_type=transaction/date=2023-10-07/hour=18/batch_id=0\"\n",
    "\n",
    "s3.ls(path)"
   ]
  },
  {
   "cell_type": "code",
   "execution_count": 38,
   "metadata": {},
   "outputs": [],
   "source": [
    "with s3.open(s3.ls(path)[0], 'rb') as f:\n",
    "    df = pd.read_parquet(f)"
   ]
  },
  {
   "cell_type": "code",
   "execution_count": 39,
   "metadata": {},
   "outputs": [
    {
     "data": {
      "text/html": [
       "<div>\n",
       "<style scoped>\n",
       "    .dataframe tbody tr th:only-of-type {\n",
       "        vertical-align: middle;\n",
       "    }\n",
       "\n",
       "    .dataframe tbody tr th {\n",
       "        vertical-align: top;\n",
       "    }\n",
       "\n",
       "    .dataframe thead th {\n",
       "        text-align: right;\n",
       "    }\n",
       "</style>\n",
       "<table border=\"1\" class=\"dataframe\">\n",
       "  <thead>\n",
       "    <tr style=\"text-align: right;\">\n",
       "      <th></th>\n",
       "      <th>object_id</th>\n",
       "      <th>sent_dttm</th>\n",
       "      <th>payload</th>\n",
       "      <th>trigger_dttm</th>\n",
       "    </tr>\n",
       "  </thead>\n",
       "  <tbody>\n",
       "    <tr>\n",
       "      <th>0</th>\n",
       "      <td>e2d4cfd9-4dc6-4a02-8c7a-c391a420206b</td>\n",
       "      <td>2022-10-01 00:11:45</td>\n",
       "      <td>{\"operation_id\":\"e2d4cfd9-4dc6-4a02-8c7a-c391a...</td>\n",
       "      <td>2023-10-07 18:44:34.385775</td>\n",
       "    </tr>\n",
       "    <tr>\n",
       "      <th>1</th>\n",
       "      <td>b05f56ef-3b59-49ee-851c-a37a98d1dd28</td>\n",
       "      <td>2022-10-01 00:22:28</td>\n",
       "      <td>{\"operation_id\":\"b05f56ef-3b59-49ee-851c-a37a9...</td>\n",
       "      <td>2023-10-07 18:44:34.385775</td>\n",
       "    </tr>\n",
       "    <tr>\n",
       "      <th>2</th>\n",
       "      <td>a62136ce-f65a-45d8-8472-18bdc5c1e0e3</td>\n",
       "      <td>2022-10-01 00:28:04</td>\n",
       "      <td>{\"operation_id\":\"a62136ce-f65a-45d8-8472-18bdc...</td>\n",
       "      <td>2023-10-07 18:44:34.385775</td>\n",
       "    </tr>\n",
       "    <tr>\n",
       "      <th>3</th>\n",
       "      <td>a0d7ccfa-8bf1-4921-8d68-a50e5e2b2fbd</td>\n",
       "      <td>2022-10-01 00:29:53</td>\n",
       "      <td>{\"operation_id\":\"a0d7ccfa-8bf1-4921-8d68-a50e5...</td>\n",
       "      <td>2023-10-07 18:44:34.385775</td>\n",
       "    </tr>\n",
       "    <tr>\n",
       "      <th>4</th>\n",
       "      <td>818b7011-e7e0-48c1-a0e3-8c061c92fc1f</td>\n",
       "      <td>2022-10-01 00:38:23</td>\n",
       "      <td>{\"operation_id\":\"818b7011-e7e0-48c1-a0e3-8c061...</td>\n",
       "      <td>2023-10-07 18:44:34.385775</td>\n",
       "    </tr>\n",
       "  </tbody>\n",
       "</table>\n",
       "</div>"
      ],
      "text/plain": [
       "                              object_id           sent_dttm  \\\n",
       "0  e2d4cfd9-4dc6-4a02-8c7a-c391a420206b 2022-10-01 00:11:45   \n",
       "1  b05f56ef-3b59-49ee-851c-a37a98d1dd28 2022-10-01 00:22:28   \n",
       "2  a62136ce-f65a-45d8-8472-18bdc5c1e0e3 2022-10-01 00:28:04   \n",
       "3  a0d7ccfa-8bf1-4921-8d68-a50e5e2b2fbd 2022-10-01 00:29:53   \n",
       "4  818b7011-e7e0-48c1-a0e3-8c061c92fc1f 2022-10-01 00:38:23   \n",
       "\n",
       "                                             payload  \\\n",
       "0  {\"operation_id\":\"e2d4cfd9-4dc6-4a02-8c7a-c391a...   \n",
       "1  {\"operation_id\":\"b05f56ef-3b59-49ee-851c-a37a9...   \n",
       "2  {\"operation_id\":\"a62136ce-f65a-45d8-8472-18bdc...   \n",
       "3  {\"operation_id\":\"a0d7ccfa-8bf1-4921-8d68-a50e5...   \n",
       "4  {\"operation_id\":\"818b7011-e7e0-48c1-a0e3-8c061...   \n",
       "\n",
       "                trigger_dttm  \n",
       "0 2023-10-07 18:44:34.385775  \n",
       "1 2023-10-07 18:44:34.385775  \n",
       "2 2023-10-07 18:44:34.385775  \n",
       "3 2023-10-07 18:44:34.385775  \n",
       "4 2023-10-07 18:44:34.385775  "
      ]
     },
     "execution_count": 39,
     "metadata": {},
     "output_type": "execute_result"
    }
   ],
   "source": [
    "df.head()"
   ]
  },
  {
   "cell_type": "code",
   "execution_count": 9,
   "metadata": {},
   "outputs": [
    {
     "data": {
      "text/plain": [
       "['data-ice-lake-05/dev/clean/transaction-service/сurrencies/date=2023-10-08/hour=7/part-00000-ff59e34a-c639-4c0f-8eb1-69b47c880b64.c000.snappy.parquet']"
      ]
     },
     "execution_count": 9,
     "metadata": {},
     "output_type": "execute_result"
    }
   ],
   "source": [
    "path = \"s3a://data-ice-lake-05/dev/clean/transaction-service/сurrencies/date=2023-10-08/hour=7\"\n",
    "\n",
    "s3.ls(path)"
   ]
  },
  {
   "cell_type": "code",
   "execution_count": 10,
   "metadata": {},
   "outputs": [],
   "source": [
    "with s3.open(s3.ls(path)[0], 'rb') as f:\n",
    "    df = pd.read_parquet(f)"
   ]
  },
  {
   "cell_type": "code",
   "execution_count": 11,
   "metadata": {},
   "outputs": [
    {
     "data": {
      "text/plain": [
       "object_id                     object\n",
       "date_update           datetime64[ns]\n",
       "currency_code                  int32\n",
       "currency_code_with             int32\n",
       "currency_with_div            float32\n",
       "trigger_dttm          datetime64[ns]\n",
       "dtype: object"
      ]
     },
     "execution_count": 11,
     "metadata": {},
     "output_type": "execute_result"
    }
   ],
   "source": [
    "df.dtypes"
   ]
  },
  {
   "cell_type": "code",
   "execution_count": 12,
   "metadata": {},
   "outputs": [
    {
     "data": {
      "text/html": [
       "<div>\n",
       "<style scoped>\n",
       "    .dataframe tbody tr th:only-of-type {\n",
       "        vertical-align: middle;\n",
       "    }\n",
       "\n",
       "    .dataframe tbody tr th {\n",
       "        vertical-align: top;\n",
       "    }\n",
       "\n",
       "    .dataframe thead th {\n",
       "        text-align: right;\n",
       "    }\n",
       "</style>\n",
       "<table border=\"1\" class=\"dataframe\">\n",
       "  <thead>\n",
       "    <tr style=\"text-align: right;\">\n",
       "      <th></th>\n",
       "      <th>object_id</th>\n",
       "      <th>date_update</th>\n",
       "      <th>currency_code</th>\n",
       "      <th>currency_code_with</th>\n",
       "      <th>currency_with_div</th>\n",
       "      <th>trigger_dttm</th>\n",
       "    </tr>\n",
       "  </thead>\n",
       "  <tbody>\n",
       "    <tr>\n",
       "      <th>0</th>\n",
       "      <td>7e302cf9-704c-5b89-9b9d-afc2d44f5a48</td>\n",
       "      <td>2022-10-22</td>\n",
       "      <td>460</td>\n",
       "      <td>430</td>\n",
       "      <td>0.96</td>\n",
       "      <td>2023-10-08 07:30:29.714301</td>\n",
       "    </tr>\n",
       "    <tr>\n",
       "      <th>1</th>\n",
       "      <td>cb0a3884-f516-5a18-8533-fd36f88cd870</td>\n",
       "      <td>2022-10-28</td>\n",
       "      <td>440</td>\n",
       "      <td>420</td>\n",
       "      <td>0.91</td>\n",
       "      <td>2023-10-08 07:30:29.714301</td>\n",
       "    </tr>\n",
       "    <tr>\n",
       "      <th>2</th>\n",
       "      <td>553e011a-c1e1-5b30-882a-72853d95812c</td>\n",
       "      <td>2022-10-31</td>\n",
       "      <td>410</td>\n",
       "      <td>470</td>\n",
       "      <td>1.09</td>\n",
       "      <td>2023-10-08 07:30:29.714301</td>\n",
       "    </tr>\n",
       "    <tr>\n",
       "      <th>3</th>\n",
       "      <td>03ce4653-572e-524c-8c70-44e38b0ac550</td>\n",
       "      <td>2022-10-10</td>\n",
       "      <td>430</td>\n",
       "      <td>460</td>\n",
       "      <td>0.96</td>\n",
       "      <td>2023-10-08 07:30:29.714301</td>\n",
       "    </tr>\n",
       "    <tr>\n",
       "      <th>4</th>\n",
       "      <td>9eb2613e-4f9a-5e29-9499-62305d571604</td>\n",
       "      <td>2022-10-20</td>\n",
       "      <td>430</td>\n",
       "      <td>420</td>\n",
       "      <td>1.05</td>\n",
       "      <td>2023-10-08 07:30:29.714301</td>\n",
       "    </tr>\n",
       "  </tbody>\n",
       "</table>\n",
       "</div>"
      ],
      "text/plain": [
       "                              object_id date_update  currency_code  \\\n",
       "0  7e302cf9-704c-5b89-9b9d-afc2d44f5a48  2022-10-22            460   \n",
       "1  cb0a3884-f516-5a18-8533-fd36f88cd870  2022-10-28            440   \n",
       "2  553e011a-c1e1-5b30-882a-72853d95812c  2022-10-31            410   \n",
       "3  03ce4653-572e-524c-8c70-44e38b0ac550  2022-10-10            430   \n",
       "4  9eb2613e-4f9a-5e29-9499-62305d571604  2022-10-20            430   \n",
       "\n",
       "   currency_code_with  currency_with_div               trigger_dttm  \n",
       "0                 430               0.96 2023-10-08 07:30:29.714301  \n",
       "1                 420               0.91 2023-10-08 07:30:29.714301  \n",
       "2                 470               1.09 2023-10-08 07:30:29.714301  \n",
       "3                 460               0.96 2023-10-08 07:30:29.714301  \n",
       "4                 420               1.05 2023-10-08 07:30:29.714301  "
      ]
     },
     "execution_count": 12,
     "metadata": {},
     "output_type": "execute_result"
    }
   ],
   "source": [
    "df.head()"
   ]
  },
  {
   "cell_type": "code",
   "execution_count": 40,
   "metadata": {},
   "outputs": [
    {
     "data": {
      "text/plain": [
       "'{\"operation_id\":\"e2d4cfd9-4dc6-4a02-8c7a-c391a420206b\",\"account_number_from\":914810,\"account_number_to\":876839,\"currency_code\":430,\"country\":\"russia\",\"status\":\"done\",\"transaction_type\":\"sbp_incoming\",\"amount\":290000,\"transaction_dt\":\"2022-10-01 00:11:45\"}'"
      ]
     },
     "execution_count": 40,
     "metadata": {},
     "output_type": "execute_result"
    }
   ],
   "source": [
    "df['payload'].iloc[0]"
   ]
  },
  {
   "cell_type": "code",
   "execution_count": 15,
   "metadata": {},
   "outputs": [
    {
     "data": {
      "text/plain": [
       "array([ 22600, 250000,   5000, ...,  30400, 215400, 679600])"
      ]
     },
     "execution_count": 15,
     "metadata": {},
     "output_type": "execute_result"
    }
   ],
   "source": [
    "df['amount'].unique()"
   ]
  },
  {
   "cell_type": "code",
   "execution_count": 21,
   "metadata": {},
   "outputs": [
    {
     "name": "stdout",
     "output_type": "stream",
     "text": [
      "-3_849_206\n"
     ]
    }
   ],
   "source": [
    "print(f\"{df['amount'].min():_}\")"
   ]
  },
  {
   "cell_type": "code",
   "execution_count": 22,
   "metadata": {},
   "outputs": [
    {
     "name": "stdout",
     "output_type": "stream",
     "text": [
      "5_930_700\n"
     ]
    }
   ],
   "source": [
    "print(f\"{df['amount'].max():_}\")"
   ]
  },
  {
   "cell_type": "code",
   "execution_count": 23,
   "metadata": {},
   "outputs": [
    {
     "name": "stdout",
     "output_type": "stream",
     "text": [
      "179_935.33373337335\n"
     ]
    }
   ],
   "source": [
    "print(f\"{df['amount'].mean():_}\")"
   ]
  },
  {
   "cell_type": "code",
   "execution_count": 24,
   "metadata": {},
   "outputs": [
    {
     "name": "stdout",
     "output_type": "stream",
     "text": [
      "100_000.0\n"
     ]
    }
   ],
   "source": [
    "print(f\"{df['amount'].median():_}\")"
   ]
  },
  {
   "cell_type": "code",
   "execution_count": 13,
   "metadata": {},
   "outputs": [],
   "source": [
    "df['amount'] = df['amount'].astype('int64')"
   ]
  },
  {
   "cell_type": "code",
   "execution_count": 14,
   "metadata": {},
   "outputs": [
    {
     "data": {
      "text/plain": [
       "operation_id                   object\n",
       "account_number_from           float64\n",
       "account_number_to             float64\n",
       "currency_code                   int32\n",
       "country                        object\n",
       "status                         object\n",
       "transaction_type               object\n",
       "amount                          int64\n",
       "transaction_dt         datetime64[ns]\n",
       "trigger_dttm           datetime64[ns]\n",
       "dtype: object"
      ]
     },
     "execution_count": 14,
     "metadata": {},
     "output_type": "execute_result"
    }
   ],
   "source": [
    "df.dtypes"
   ]
  },
  {
   "cell_type": "code",
   "execution_count": 10,
   "metadata": {},
   "outputs": [
    {
     "data": {
      "text/plain": [
       "<DatetimeArray>\n",
       "['NaT']\n",
       "Length: 1, dtype: datetime64[ns]"
      ]
     },
     "execution_count": 10,
     "metadata": {},
     "output_type": "execute_result"
    }
   ],
   "source": [
    "df.date_update.unique()"
   ]
  },
  {
   "cell_type": "code",
   "execution_count": 11,
   "metadata": {},
   "outputs": [
    {
     "data": {
      "text/plain": [
       "(1680, 6)"
      ]
     },
     "execution_count": 11,
     "metadata": {},
     "output_type": "execute_result"
    }
   ],
   "source": [
    "df.shape"
   ]
  },
  {
   "cell_type": "code",
   "execution_count": 14,
   "metadata": {},
   "outputs": [],
   "source": [
    "pd.options.display.max_columns = None\n",
    "pd.options.display.max_rows = None"
   ]
  },
  {
   "cell_type": "code",
   "execution_count": 16,
   "metadata": {},
   "outputs": [
    {
     "data": {
      "text/html": [
       "<div>\n",
       "<style scoped>\n",
       "    .dataframe tbody tr th:only-of-type {\n",
       "        vertical-align: middle;\n",
       "    }\n",
       "\n",
       "    .dataframe tbody tr th {\n",
       "        vertical-align: top;\n",
       "    }\n",
       "\n",
       "    .dataframe thead th {\n",
       "        text-align: right;\n",
       "    }\n",
       "</style>\n",
       "<table border=\"1\" class=\"dataframe\">\n",
       "  <thead>\n",
       "    <tr style=\"text-align: right;\">\n",
       "      <th></th>\n",
       "      <th>object_id</th>\n",
       "      <th>date_update</th>\n",
       "      <th>currency_code</th>\n",
       "      <th>currency_code_with</th>\n",
       "      <th>currency_with_div</th>\n",
       "      <th>trigger_dttm</th>\n",
       "    </tr>\n",
       "  </thead>\n",
       "  <tbody>\n",
       "    <tr>\n",
       "      <th>1307</th>\n",
       "      <td>00519ce2-066d-5d42-a5dd-ccb85f100f31</td>\n",
       "      <td>NaT</td>\n",
       "      <td>460</td>\n",
       "      <td>470</td>\n",
       "      <td>1.06</td>\n",
       "      <td>2023-10-03 05:30:47.659694</td>\n",
       "    </tr>\n",
       "    <tr>\n",
       "      <th>125</th>\n",
       "      <td>008724ab-dcef-5d9f-99b9-d04023aff9ae</td>\n",
       "      <td>NaT</td>\n",
       "      <td>420</td>\n",
       "      <td>430</td>\n",
       "      <td>0.96</td>\n",
       "      <td>2023-10-03 05:30:47.659694</td>\n",
       "    </tr>\n",
       "    <tr>\n",
       "      <th>199</th>\n",
       "      <td>00b0ebd9-41c2-5f62-a4c3-c3acb9a25afa</td>\n",
       "      <td>NaT</td>\n",
       "      <td>440</td>\n",
       "      <td>460</td>\n",
       "      <td>1.02</td>\n",
       "      <td>2023-10-03 05:30:47.659694</td>\n",
       "    </tr>\n",
       "    <tr>\n",
       "      <th>1585</th>\n",
       "      <td>0106e23b-f680-514e-b712-dfb7cd5282b5</td>\n",
       "      <td>NaT</td>\n",
       "      <td>410</td>\n",
       "      <td>460</td>\n",
       "      <td>0.97</td>\n",
       "      <td>2023-10-03 05:30:47.659694</td>\n",
       "    </tr>\n",
       "    <tr>\n",
       "      <th>1338</th>\n",
       "      <td>010e8d85-56d7-5e74-a28e-4fdf226ea695</td>\n",
       "      <td>NaT</td>\n",
       "      <td>450</td>\n",
       "      <td>440</td>\n",
       "      <td>1.01</td>\n",
       "      <td>2023-10-03 05:30:47.659694</td>\n",
       "    </tr>\n",
       "    <tr>\n",
       "      <th>949</th>\n",
       "      <td>012116b6-61f1-5b14-8420-6aa6811af7a8</td>\n",
       "      <td>NaT</td>\n",
       "      <td>410</td>\n",
       "      <td>450</td>\n",
       "      <td>1.07</td>\n",
       "      <td>2023-10-03 05:30:47.659694</td>\n",
       "    </tr>\n",
       "    <tr>\n",
       "      <th>1090</th>\n",
       "      <td>01276f13-b24f-58c3-b096-2ba50de97159</td>\n",
       "      <td>NaT</td>\n",
       "      <td>470</td>\n",
       "      <td>430</td>\n",
       "      <td>1.03</td>\n",
       "      <td>2023-10-03 05:30:47.659694</td>\n",
       "    </tr>\n",
       "    <tr>\n",
       "      <th>94</th>\n",
       "      <td>0198e79b-afb9-5907-9ebf-559bb166fe31</td>\n",
       "      <td>NaT</td>\n",
       "      <td>440</td>\n",
       "      <td>430</td>\n",
       "      <td>1.09</td>\n",
       "      <td>2023-10-03 05:30:47.659694</td>\n",
       "    </tr>\n",
       "    <tr>\n",
       "      <th>813</th>\n",
       "      <td>01c4eb2d-0076-50f9-a952-dfeda04d8b48</td>\n",
       "      <td>NaT</td>\n",
       "      <td>430</td>\n",
       "      <td>420</td>\n",
       "      <td>0.96</td>\n",
       "      <td>2023-10-03 05:30:47.659694</td>\n",
       "    </tr>\n",
       "    <tr>\n",
       "      <th>10</th>\n",
       "      <td>0207a732-4c37-563e-92f7-7a8669ab2861</td>\n",
       "      <td>NaT</td>\n",
       "      <td>450</td>\n",
       "      <td>440</td>\n",
       "      <td>1.05</td>\n",
       "      <td>2023-10-03 05:30:47.659694</td>\n",
       "    </tr>\n",
       "    <tr>\n",
       "      <th>517</th>\n",
       "      <td>02098316-7917-5495-946a-fcd0d229ed5f</td>\n",
       "      <td>NaT</td>\n",
       "      <td>410</td>\n",
       "      <td>420</td>\n",
       "      <td>0.99</td>\n",
       "      <td>2023-10-03 05:30:47.659694</td>\n",
       "    </tr>\n",
       "    <tr>\n",
       "      <th>592</th>\n",
       "      <td>024caf0c-2bdb-5b52-91e2-1a688eb614ed</td>\n",
       "      <td>NaT</td>\n",
       "      <td>470</td>\n",
       "      <td>460</td>\n",
       "      <td>0.92</td>\n",
       "      <td>2023-10-03 05:30:47.659694</td>\n",
       "    </tr>\n",
       "    <tr>\n",
       "      <th>212</th>\n",
       "      <td>02c3f878-f4f9-5efe-ad17-7fc74a6b98dc</td>\n",
       "      <td>NaT</td>\n",
       "      <td>430</td>\n",
       "      <td>440</td>\n",
       "      <td>1.04</td>\n",
       "      <td>2023-10-03 05:30:47.659694</td>\n",
       "    </tr>\n",
       "    <tr>\n",
       "      <th>115</th>\n",
       "      <td>02d546bb-2500-5645-b3a5-8ef4661a2154</td>\n",
       "      <td>NaT</td>\n",
       "      <td>470</td>\n",
       "      <td>420</td>\n",
       "      <td>1.02</td>\n",
       "      <td>2023-10-03 05:30:47.659694</td>\n",
       "    </tr>\n",
       "    <tr>\n",
       "      <th>706</th>\n",
       "      <td>03221954-cd0c-53b7-89d2-5b0e55a8b4a7</td>\n",
       "      <td>NaT</td>\n",
       "      <td>450</td>\n",
       "      <td>420</td>\n",
       "      <td>0.94</td>\n",
       "      <td>2023-10-03 05:30:47.659694</td>\n",
       "    </tr>\n",
       "    <tr>\n",
       "      <th>741</th>\n",
       "      <td>03304267-06e5-5517-970a-9a51da1c98e5</td>\n",
       "      <td>NaT</td>\n",
       "      <td>460</td>\n",
       "      <td>440</td>\n",
       "      <td>1.06</td>\n",
       "      <td>2023-10-03 05:30:47.659694</td>\n",
       "    </tr>\n",
       "    <tr>\n",
       "      <th>1368</th>\n",
       "      <td>0332cd53-87e2-5ab7-918f-c8ba1e78d1c0</td>\n",
       "      <td>NaT</td>\n",
       "      <td>440</td>\n",
       "      <td>420</td>\n",
       "      <td>0.93</td>\n",
       "      <td>2023-10-03 05:30:47.659694</td>\n",
       "    </tr>\n",
       "    <tr>\n",
       "      <th>344</th>\n",
       "      <td>033fc0c6-3d04-5b7e-9f4b-84f05176c0ef</td>\n",
       "      <td>NaT</td>\n",
       "      <td>440</td>\n",
       "      <td>410</td>\n",
       "      <td>1.08</td>\n",
       "      <td>2023-10-03 05:30:47.659694</td>\n",
       "    </tr>\n",
       "    <tr>\n",
       "      <th>660</th>\n",
       "      <td>039d942a-9797-51ec-aeb1-418c9e5cdeb1</td>\n",
       "      <td>NaT</td>\n",
       "      <td>460</td>\n",
       "      <td>420</td>\n",
       "      <td>1.05</td>\n",
       "      <td>2023-10-03 05:30:47.659694</td>\n",
       "    </tr>\n",
       "    <tr>\n",
       "      <th>6</th>\n",
       "      <td>03ce4653-572e-524c-8c70-44e38b0ac550</td>\n",
       "      <td>NaT</td>\n",
       "      <td>430</td>\n",
       "      <td>460</td>\n",
       "      <td>0.96</td>\n",
       "      <td>2023-10-03 05:30:47.659694</td>\n",
       "    </tr>\n",
       "  </tbody>\n",
       "</table>\n",
       "</div>"
      ],
      "text/plain": [
       "                                 object_id date_update  currency_code  \\\n",
       "1307  00519ce2-066d-5d42-a5dd-ccb85f100f31         NaT            460   \n",
       "125   008724ab-dcef-5d9f-99b9-d04023aff9ae         NaT            420   \n",
       "199   00b0ebd9-41c2-5f62-a4c3-c3acb9a25afa         NaT            440   \n",
       "1585  0106e23b-f680-514e-b712-dfb7cd5282b5         NaT            410   \n",
       "1338  010e8d85-56d7-5e74-a28e-4fdf226ea695         NaT            450   \n",
       "949   012116b6-61f1-5b14-8420-6aa6811af7a8         NaT            410   \n",
       "1090  01276f13-b24f-58c3-b096-2ba50de97159         NaT            470   \n",
       "94    0198e79b-afb9-5907-9ebf-559bb166fe31         NaT            440   \n",
       "813   01c4eb2d-0076-50f9-a952-dfeda04d8b48         NaT            430   \n",
       "10    0207a732-4c37-563e-92f7-7a8669ab2861         NaT            450   \n",
       "517   02098316-7917-5495-946a-fcd0d229ed5f         NaT            410   \n",
       "592   024caf0c-2bdb-5b52-91e2-1a688eb614ed         NaT            470   \n",
       "212   02c3f878-f4f9-5efe-ad17-7fc74a6b98dc         NaT            430   \n",
       "115   02d546bb-2500-5645-b3a5-8ef4661a2154         NaT            470   \n",
       "706   03221954-cd0c-53b7-89d2-5b0e55a8b4a7         NaT            450   \n",
       "741   03304267-06e5-5517-970a-9a51da1c98e5         NaT            460   \n",
       "1368  0332cd53-87e2-5ab7-918f-c8ba1e78d1c0         NaT            440   \n",
       "344   033fc0c6-3d04-5b7e-9f4b-84f05176c0ef         NaT            440   \n",
       "660   039d942a-9797-51ec-aeb1-418c9e5cdeb1         NaT            460   \n",
       "6     03ce4653-572e-524c-8c70-44e38b0ac550         NaT            430   \n",
       "\n",
       "      currency_code_with  currency_with_div               trigger_dttm  \n",
       "1307                 470               1.06 2023-10-03 05:30:47.659694  \n",
       "125                  430               0.96 2023-10-03 05:30:47.659694  \n",
       "199                  460               1.02 2023-10-03 05:30:47.659694  \n",
       "1585                 460               0.97 2023-10-03 05:30:47.659694  \n",
       "1338                 440               1.01 2023-10-03 05:30:47.659694  \n",
       "949                  450               1.07 2023-10-03 05:30:47.659694  \n",
       "1090                 430               1.03 2023-10-03 05:30:47.659694  \n",
       "94                   430               1.09 2023-10-03 05:30:47.659694  \n",
       "813                  420               0.96 2023-10-03 05:30:47.659694  \n",
       "10                   440               1.05 2023-10-03 05:30:47.659694  \n",
       "517                  420               0.99 2023-10-03 05:30:47.659694  \n",
       "592                  460               0.92 2023-10-03 05:30:47.659694  \n",
       "212                  440               1.04 2023-10-03 05:30:47.659694  \n",
       "115                  420               1.02 2023-10-03 05:30:47.659694  \n",
       "706                  420               0.94 2023-10-03 05:30:47.659694  \n",
       "741                  440               1.06 2023-10-03 05:30:47.659694  \n",
       "1368                 420               0.93 2023-10-03 05:30:47.659694  \n",
       "344                  410               1.08 2023-10-03 05:30:47.659694  \n",
       "660                  420               1.05 2023-10-03 05:30:47.659694  \n",
       "6                    460               0.96 2023-10-03 05:30:47.659694  "
      ]
     },
     "execution_count": 16,
     "metadata": {},
     "output_type": "execute_result"
    }
   ],
   "source": [
    "df.sort_values('object_id').head(20)"
   ]
  },
  {
   "cell_type": "code",
   "execution_count": 17,
   "metadata": {},
   "outputs": [],
   "source": [
    "df['row_number'] = df.groupby('object_id').cumcount() + 1"
   ]
  },
  {
   "cell_type": "code",
   "execution_count": 19,
   "metadata": {},
   "outputs": [
    {
     "data": {
      "text/html": [
       "<div>\n",
       "<style scoped>\n",
       "    .dataframe tbody tr th:only-of-type {\n",
       "        vertical-align: middle;\n",
       "    }\n",
       "\n",
       "    .dataframe tbody tr th {\n",
       "        vertical-align: top;\n",
       "    }\n",
       "\n",
       "    .dataframe thead th {\n",
       "        text-align: right;\n",
       "    }\n",
       "</style>\n",
       "<table border=\"1\" class=\"dataframe\">\n",
       "  <thead>\n",
       "    <tr style=\"text-align: right;\">\n",
       "      <th></th>\n",
       "      <th>object_id</th>\n",
       "      <th>date_update</th>\n",
       "      <th>currency_code</th>\n",
       "      <th>currency_code_with</th>\n",
       "      <th>currency_with_div</th>\n",
       "      <th>trigger_dttm</th>\n",
       "      <th>row_number</th>\n",
       "    </tr>\n",
       "  </thead>\n",
       "  <tbody>\n",
       "  </tbody>\n",
       "</table>\n",
       "</div>"
      ],
      "text/plain": [
       "Empty DataFrame\n",
       "Columns: [object_id, date_update, currency_code, currency_code_with, currency_with_div, trigger_dttm, row_number]\n",
       "Index: []"
      ]
     },
     "execution_count": 19,
     "metadata": {},
     "output_type": "execute_result"
    }
   ],
   "source": [
    "df[df['row_number'] > 1].head()"
   ]
  }
 ],
 "metadata": {
  "kernelspec": {
   "display_name": ".venv",
   "language": "python",
   "name": "python3"
  },
  "language_info": {
   "codemirror_mode": {
    "name": "ipython",
    "version": 3
   },
   "file_extension": ".py",
   "mimetype": "text/x-python",
   "name": "python",
   "nbconvert_exporter": "python",
   "pygments_lexer": "ipython3",
   "version": "3.11.2"
  },
  "orig_nbformat": 4
 },
 "nbformat": 4,
 "nbformat_minor": 2
}
